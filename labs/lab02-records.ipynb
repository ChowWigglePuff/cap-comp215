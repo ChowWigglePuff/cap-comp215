{
  "nbformat": 4,
  "nbformat_minor": 0,
  "metadata": {
    "colab": {
      "name": "Lab2-NEO.ipynb",
      "provenance": [],
      "toc_visible": true
    },
    "kernelspec": {
      "name": "python3",
      "language": "python",
      "display_name": "Python 3 (ipykernel)"
    },
    "language_info": {
      "name": "python"
    }
  },
  "cells": [
    {
      "cell_type": "markdown",
      "source": [
        "COMP 215 - LAB 2 Records (NEO)\n",
        "----------------\n",
        "#### Name: Chia-Wei Chang\n",
        "#### Date: Jan. 15, 2024\n",
        "\n",
        "This lab exercise is mostly a review of strings, tuples, lists, dictionaries, and functions.\n",
        "\n",
        "**Building on new concepts from lab 1**:\n",
        "  * `datetime.date` objects represent a calendar date\n",
        "  * *list comprehension* provides a compact way to represent map and filter algorithms\n",
        "\n",
        "**New Python Concepts**:\n",
        "  * *f-string* simplifies string formatting operations\n",
        "\n",
        "As usual, the first code cell simply imports all the modules we'll be using..."
      ],
      "metadata": {
        "id": "nbRPZPKZU5Pk"
      }
    },
    {
      "cell_type": "code",
      "execution_count": null,
      "outputs": [],
      "source": [
        "import datetime, json, requests\n",
        "from pprint import pprint    # Pretty Print - built-in python function to nicely format data structures"
      ],
      "metadata": {
        "pycharm": {
          "name": "#%%\n"
        },
        "ExecuteTime": {
          "end_time": "2024-01-04T04:05:38.688434Z",
          "start_time": "2024-01-04T04:05:38.640552Z"
        },
        "id": "34KQIDneQgyp"
      }
    },
    {
      "cell_type": "markdown",
      "source": [
        "We'll answer some questions about [Near Earth Objects](https://cneos.jpl.nasa.gov/)\n",
        "> using NASA's API:  [https://api.nasa.gov/](https://api.nasa.gov/#NeoWS)\n",
        "\n",
        "You should register for your own API key, (but may use the DEMO_KEY to get started).\n",
        "\n",
        "First we need a short tutorial on python dates and [f-strings](https://realpython.com/python-f-strings/)..."
      ],
      "metadata": {
        "collapsed": false,
        "pycharm": {
          "name": "#%% md\n"
        },
        "id": "snjZid5TQgyp"
      }
    },
    {
      "cell_type": "code",
      "execution_count": null,
      "outputs": [
        {
          "output_type": "stream",
          "name": "stdout",
          "text": [
            "2023-01-15 <class 'str'>\n",
            "Today is: 2023-01-15\n"
          ]
        }
      ],
      "source": [
        "today = '2023-01-15'   # get a date object representing today's date\n",
        "print(today, type(today))\n",
        "formatted_date = f'Today is: {today}'   # A format string - notice how the variable `today` is formatted into the stringg\n",
        "print(formatted_date)"
      ],
      "metadata": {
        "pycharm": {
          "name": "#%%\n"
        },
        "ExecuteTime": {
          "end_time": "2024-01-04T04:05:38.691283Z",
          "start_time": "2024-01-04T04:05:38.688366Z"
        },
        "id": "oaGc8VhEQgyp",
        "outputId": "5dbb796f-a7bb-481b-fe3d-f132309c82a1",
        "colab": {
          "base_uri": "https://localhost:8080/"
        }
      }
    },
    {
      "cell_type": "markdown",
      "source": [
        "### Make a query\n",
        "\n",
        "Let's get some data from the NEO database...\n",
        "Here's a query that gets the observation \"feed\" for today.\n",
        "(Note: I hard-coded the date below to lock down the data for the lab - ideally used `today()` so the notebook is always up-to-date.)"
      ],
      "metadata": {
        "collapsed": false,
        "pycharm": {
          "name": "#%% md\n"
        },
        "id": "KT4ENR7UQgyq"
      }
    },
    {
      "cell_type": "code",
      "execution_count": null,
      "outputs": [
        {
          "output_type": "stream",
          "name": "stdout",
          "text": [
            "21 Near Earth Objects found for 2023-01-15\n",
            "[{'absolute_magnitude_h': 18.61,\n",
            "  'close_approach_data': [{'close_approach_date': '2023-01-15',\n",
            "                           'close_approach_date_full': '2023-Jan-15 21:05',\n",
            "                           'epoch_date_close_approach': 1673816700000,\n",
            "                           'miss_distance': {'astronomical': '0.2068677101',\n",
            "                                             'kilometers': '30946968.802737487',\n",
            "                                             'lunar': '80.4715392289',\n",
            "                                             'miles': '19229554.7277198406'},\n",
            "                           'orbiting_body': 'Earth',\n",
            "                           'relative_velocity': {'kilometers_per_hour': '47054.2992168661',\n",
            "                                                 'kilometers_per_second': '13.0706386714',\n",
            "                                                 'miles_per_hour': '29237.7116439466'}}],\n",
            "  'estimated_diameter': {'feet': {'estimated_diameter_max': 3698.4949496657,\n",
            "                                  'estimated_diameter_min': 1654.0172243784},\n",
            "                         'kilometers': {'estimated_diameter_max': 1.1273012246,\n",
            "                                        'estimated_diameter_min': 0.5041444339},\n",
            "                         'meters': {'estimated_diameter_max': 1127.3012245845,\n",
            "                                    'estimated_diameter_min': 504.1444338579},\n",
            "                         'miles': {'estimated_diameter_max': 0.7004722892,\n",
            "                                   'estimated_diameter_min': 0.313260731}},\n",
            "  'id': '2452313',\n",
            "  'is_potentially_hazardous_asteroid': False,\n",
            "  'is_sentry_object': False,\n",
            "  'links': {'self': 'http://api.nasa.gov/neo/rest/v1/neo/2452313?api_key=OrsuXySO82FsjeFPmUMe3CexM0btlJDvY2tPmq5Q'},\n",
            "  'name': '452313 (1998 XR16)',\n",
            "  'nasa_jpl_url': 'https://ssd.jpl.nasa.gov/tools/sbdb_lookup.html#/?sstr=2452313',\n",
            "  'neo_reference_id': '2452313'},\n",
            " {'absolute_magnitude_h': 22.29,\n",
            "  'close_approach_data': [{'close_approach_date': '2023-01-15',\n",
            "                           'close_approach_date_full': '2023-Jan-15 22:49',\n",
            "                           'epoch_date_close_approach': 1673822940000,\n",
            "                           'miss_distance': {'astronomical': '0.0810723043',\n",
            "                                             'kilometers': '12128244.039271841',\n",
            "                                             'lunar': '31.5371263727',\n",
            "                                             'miles': '7536141.3904837658'},\n",
            "                           'orbiting_body': 'Earth',\n",
            "                           'relative_velocity': {'kilometers_per_hour': '63278.5685463511',\n",
            "                                                 'kilometers_per_second': '17.5773801518',\n",
            "                                                 'miles_per_hour': '39318.8416614813'}}],\n",
            "  'estimated_diameter': {'feet': {'estimated_diameter_max': 679.2427787741,\n",
            "                                  'estimated_diameter_min': 303.766605313},\n",
            "                         'kilometers': {'estimated_diameter_max': 0.2070331923,\n",
            "                                        'estimated_diameter_min': 0.0925880583},\n",
            "                         'meters': {'estimated_diameter_max': 207.0331923453,\n",
            "                                    'estimated_diameter_min': 92.5880583366},\n",
            "                         'miles': {'estimated_diameter_max': 0.1286444218,\n",
            "                                   'estimated_diameter_min': 0.0575315344}},\n",
            "  'id': '3712626',\n",
            "  'is_potentially_hazardous_asteroid': False,\n",
            "  'is_sentry_object': False,\n",
            "  'links': {'self': 'http://api.nasa.gov/neo/rest/v1/neo/3712626?api_key=OrsuXySO82FsjeFPmUMe3CexM0btlJDvY2tPmq5Q'},\n",
            "  'name': '(2015 DG200)',\n",
            "  'nasa_jpl_url': 'https://ssd.jpl.nasa.gov/tools/sbdb_lookup.html#/?sstr=3712626',\n",
            "  'neo_reference_id': '3712626'},\n",
            " {'absolute_magnitude_h': 22.21,\n",
            "  'close_approach_data': [{'close_approach_date': '2023-01-15',\n",
            "                           'close_approach_date_full': '2023-Jan-15 21:27',\n",
            "                           'epoch_date_close_approach': 1673818020000,\n",
            "                           'miss_distance': {'astronomical': '0.4565787183',\n",
            "                                             'kilometers': '68303203.745010021',\n",
            "                                             'lunar': '177.6091214187',\n",
            "                                             'miles': '42441642.7620234498'},\n",
            "                           'orbiting_body': 'Earth',\n",
            "                           'relative_velocity': {'kilometers_per_hour': '68657.6508583342',\n",
            "                                                 'kilometers_per_second': '19.0715696829',\n",
            "                                                 'miles_per_hour': '42661.1942236132'}}],\n",
            "  'estimated_diameter': {'feet': {'estimated_diameter_max': 704.7336842173,\n",
            "                                  'estimated_diameter_min': 315.1664847888},\n",
            "                         'kilometers': {'estimated_diameter_max': 0.2148028201,\n",
            "                                        'estimated_diameter_min': 0.0960627415},\n",
            "                         'meters': {'estimated_diameter_max': 214.8028200758,\n",
            "                                    'estimated_diameter_min': 96.0627414896},\n",
            "                         'miles': {'estimated_diameter_max': 0.1334722431,\n",
            "                                   'estimated_diameter_min': 0.0596906017}},\n",
            "  'id': '3769883',\n",
            "  'is_potentially_hazardous_asteroid': False,\n",
            "  'is_sentry_object': False,\n",
            "  'links': {'self': 'http://api.nasa.gov/neo/rest/v1/neo/3769883?api_key=OrsuXySO82FsjeFPmUMe3CexM0btlJDvY2tPmq5Q'},\n",
            "  'name': '(2017 DW35)',\n",
            "  'nasa_jpl_url': 'https://ssd.jpl.nasa.gov/tools/sbdb_lookup.html#/?sstr=3769883',\n",
            "  'neo_reference_id': '3769883'},\n",
            " {'absolute_magnitude_h': 20.59,\n",
            "  'close_approach_data': [{'close_approach_date': '2023-01-15',\n",
            "                           'close_approach_date_full': '2023-Jan-15 15:08',\n",
            "                           'epoch_date_close_approach': 1673795280000,\n",
            "                           'miss_distance': {'astronomical': '0.4076139757',\n",
            "                                             'kilometers': '60978182.546951759',\n",
            "                                             'lunar': '158.5618365473',\n",
            "                                             'miles': '37890085.6480579142'},\n",
            "                           'orbiting_body': 'Earth',\n",
            "                           'relative_velocity': {'kilometers_per_hour': '39166.640415994',\n",
            "                                                 'kilometers_per_second': '10.8796223378',\n",
            "                                                 'miles_per_hour': '24336.6272073714'}}],\n",
            "  'estimated_diameter': {'feet': {'estimated_diameter_max': 1486.0212847469,\n",
            "                                  'estimated_diameter_min': 664.5689217411},\n",
            "                         'kilometers': {'estimated_diameter_max': 0.4529392731,\n",
            "                                        'estimated_diameter_min': 0.2025606009},\n",
            "                         'meters': {'estimated_diameter_max': 452.9392730968,\n",
            "                                    'estimated_diameter_min': 202.5606008648},\n",
            "                         'miles': {'estimated_diameter_max': 0.2814433291,\n",
            "                                   'estimated_diameter_min': 0.1258652831}},\n",
            "  'id': '3837976',\n",
            "  'is_potentially_hazardous_asteroid': False,\n",
            "  'is_sentry_object': False,\n",
            "  'links': {'self': 'http://api.nasa.gov/neo/rest/v1/neo/3837976?api_key=OrsuXySO82FsjeFPmUMe3CexM0btlJDvY2tPmq5Q'},\n",
            "  'name': '(2019 BR1)',\n",
            "  'nasa_jpl_url': 'https://ssd.jpl.nasa.gov/tools/sbdb_lookup.html#/?sstr=3837976',\n",
            "  'neo_reference_id': '3837976'},\n",
            " {'absolute_magnitude_h': 26.2,\n",
            "  'close_approach_data': [{'close_approach_date': '2023-01-15',\n",
            "                           'close_approach_date_full': '2023-Jan-15 03:21',\n",
            "                           'epoch_date_close_approach': 1673752860000,\n",
            "                           'miss_distance': {'astronomical': '0.4073374813',\n",
            "                                             'kilometers': '60936819.573644831',\n",
            "                                             'lunar': '158.4542802257',\n",
            "                                             'miles': '37864383.8882514278'},\n",
            "                           'orbiting_body': 'Earth',\n",
            "                           'relative_velocity': {'kilometers_per_hour': '81527.7144953232',\n",
            "                                                 'kilometers_per_second': '22.6465873598',\n",
            "                                                 'miles_per_hour': '50658.1512651635'}}],\n",
            "  'estimated_diameter': {'feet': {'estimated_diameter_max': 112.2083122258,\n",
            "                                  'estimated_diameter_min': 50.1810827555},\n",
            "                         'kilometers': {'estimated_diameter_max': 0.0342010925,\n",
            "                                        'estimated_diameter_min': 0.0152951935},\n",
            "                         'meters': {'estimated_diameter_max': 34.201092472,\n",
            "                                    'estimated_diameter_min': 15.2951935344},\n",
            "                         'miles': {'estimated_diameter_max': 0.021251567,\n",
            "                                   'estimated_diameter_min': 0.0095039897}},\n",
            "  'id': '3968769',\n",
            "  'is_potentially_hazardous_asteroid': False,\n",
            "  'is_sentry_object': False,\n",
            "  'links': {'self': 'http://api.nasa.gov/neo/rest/v1/neo/3968769?api_key=OrsuXySO82FsjeFPmUMe3CexM0btlJDvY2tPmq5Q'},\n",
            "  'name': '(2020 AG)',\n",
            "  'nasa_jpl_url': 'https://ssd.jpl.nasa.gov/tools/sbdb_lookup.html#/?sstr=3968769',\n",
            "  'neo_reference_id': '3968769'}]\n"
          ]
        }
      ],
      "source": [
        "API_KEY = 'OrsuXySO82FsjeFPmUMe3CexM0btlJDvY2tPmq5Q'  # substitute your API key here\n",
        "\n",
        "today = '2023-01-15' #  Future enhancement:  str(datetime.date.today())   # Today's date as a string!\n",
        "# Use an f-string here to \"format\" the date and API key varaibles.\n",
        "url = f'https://api.nasa.gov/neo/rest/v1/feed?start_date={today}&end_date={today}&api_key={API_KEY}'\n",
        "\n",
        "response = requests.request(\"GET\", url, headers={}, data={})\n",
        "\n",
        "data = json.loads(response.text)  # recall json.loads for lab 1\n",
        "\n",
        "# TIP: print(data) to see the whole data structure returned, here we grab just the list of NEO's:\n",
        "n_results = data['element_count']\n",
        "neos = data['near_earth_objects'][today]\n",
        "print(f'{n_results} Near Earth Objects found for {today}')\n",
        "pprint(neos[:5])"
      ],
      "metadata": {
        "pycharm": {
          "name": "#%%\n"
        },
        "ExecuteTime": {
          "end_time": "2024-01-04T04:05:43.064157Z",
          "start_time": "2024-01-04T04:05:38.691252Z"
        },
        "id": "zMfk2qpMQgyq",
        "outputId": "dfb6ce27-6159-467c-b0e3-d2da1af0c8e0",
        "colab": {
          "base_uri": "https://localhost:8080/"
        }
      }
    },
    {
      "cell_type": "markdown",
      "source": [
        "Next we extract just the potentially hazerdous asteroids, using a Comp115-style list accumulator *loop*:"
      ],
      "metadata": {
        "collapsed": false,
        "pycharm": {
          "name": "#%% md\n"
        },
        "id": "pPEfPopXQgyq"
      }
    },
    {
      "cell_type": "code",
      "execution_count": null,
      "metadata": {
        "id": "JDGbYTySU3BP",
        "ExecuteTime": {
          "end_time": "2024-01-04T04:05:43.065108Z",
          "start_time": "2024-01-04T04:05:43.062239Z"
        },
        "outputId": "0aaa7647-4d54-4c6e-ce09-cbf091e8d0e2",
        "colab": {
          "base_uri": "https://localhost:8080/"
        }
      },
      "outputs": [
        {
          "output_type": "stream",
          "name": "stdout",
          "text": [
            "1 potentially hazardous asteroids identified.\n"
          ]
        },
        {
          "output_type": "execute_result",
          "data": {
            "text/plain": [
              "[{'links': {'self': 'http://api.nasa.gov/neo/rest/v1/neo/54321077?api_key=OrsuXySO82FsjeFPmUMe3CexM0btlJDvY2tPmq5Q'},\n",
              "  'id': '54321077',\n",
              "  'neo_reference_id': '54321077',\n",
              "  'name': '(2022 UU11)',\n",
              "  'nasa_jpl_url': 'https://ssd.jpl.nasa.gov/tools/sbdb_lookup.html#/?sstr=54321077',\n",
              "  'absolute_magnitude_h': 21.05,\n",
              "  'estimated_diameter': {'kilometers': {'estimated_diameter_min': 0.1638909515,\n",
              "    'estimated_diameter_max': 0.3664713084},\n",
              "   'meters': {'estimated_diameter_min': 163.8909514948,\n",
              "    'estimated_diameter_max': 366.4713084395},\n",
              "   'miles': {'estimated_diameter_min': 0.1018370844,\n",
              "    'estimated_diameter_max': 0.2277146434},\n",
              "   'feet': {'estimated_diameter_min': 537.6999893021,\n",
              "    'estimated_diameter_max': 1202.3337275805}},\n",
              "  'is_potentially_hazardous_asteroid': True,\n",
              "  'close_approach_data': [{'close_approach_date': '2023-01-15',\n",
              "    'close_approach_date_full': '2023-Jan-15 03:42',\n",
              "    'epoch_date_close_approach': 1673754120000,\n",
              "    'relative_velocity': {'kilometers_per_second': '10.4528140296',\n",
              "     'kilometers_per_hour': '37630.1305064333',\n",
              "     'miles_per_hour': '23381.8997027335'},\n",
              "    'miss_distance': {'astronomical': '0.2103109398',\n",
              "     'lunar': '81.8109555822',\n",
              "     'kilometers': '31462068.631778226',\n",
              "     'miles': '19549622.9197264788'},\n",
              "    'orbiting_body': 'Earth'}],\n",
              "  'is_sentry_object': False}]"
            ]
          },
          "metadata": {},
          "execution_count": 92
        }
      ],
      "source": [
        "hazards =  []\n",
        "for item in neos:\n",
        "  if item['is_potentially_hazardous_asteroid'] is True:\n",
        "    hazards.append(item)\n",
        "print(f'{len(hazards)} potentially hazardous asteroids identified.')\n",
        "hazards"
      ]
    },
    {
      "cell_type": "markdown",
      "source": [
        "## Exercise 1\n",
        "\n",
        "In the code cell below, **re-write the accumulator loop above** as a [list comprehension](https://realpython.com/lessons/list-comprehensions-overview/) that implements a [\"filter\"](https://youtu.be/hUes6y2b--0)\n",
        "Notice how this provides a concise way to \"filter\" items of interest from a larger data set."
      ],
      "metadata": {
        "collapsed": false,
        "pycharm": {
          "name": "#%% md\n"
        },
        "id": "Qrpjfcc1Qgyr"
      }
    },
    {
      "cell_type": "code",
      "execution_count": null,
      "outputs": [
        {
          "output_type": "execute_result",
          "data": {
            "text/plain": [
              "[{'links': {'self': 'http://api.nasa.gov/neo/rest/v1/neo/54321077?api_key=OrsuXySO82FsjeFPmUMe3CexM0btlJDvY2tPmq5Q'},\n",
              "  'id': '54321077',\n",
              "  'neo_reference_id': '54321077',\n",
              "  'name': '(2022 UU11)',\n",
              "  'nasa_jpl_url': 'https://ssd.jpl.nasa.gov/tools/sbdb_lookup.html#/?sstr=54321077',\n",
              "  'absolute_magnitude_h': 21.05,\n",
              "  'estimated_diameter': {'kilometers': {'estimated_diameter_min': 0.1638909515,\n",
              "    'estimated_diameter_max': 0.3664713084},\n",
              "   'meters': {'estimated_diameter_min': 163.8909514948,\n",
              "    'estimated_diameter_max': 366.4713084395},\n",
              "   'miles': {'estimated_diameter_min': 0.1018370844,\n",
              "    'estimated_diameter_max': 0.2277146434},\n",
              "   'feet': {'estimated_diameter_min': 537.6999893021,\n",
              "    'estimated_diameter_max': 1202.3337275805}},\n",
              "  'is_potentially_hazardous_asteroid': True,\n",
              "  'close_approach_data': [{'close_approach_date': '2023-01-15',\n",
              "    'close_approach_date_full': '2023-Jan-15 03:42',\n",
              "    'epoch_date_close_approach': 1673754120000,\n",
              "    'relative_velocity': {'kilometers_per_second': '10.4528140296',\n",
              "     'kilometers_per_hour': '37630.1305064333',\n",
              "     'miles_per_hour': '23381.8997027335'},\n",
              "    'miss_distance': {'astronomical': '0.2103109398',\n",
              "     'lunar': '81.8109555822',\n",
              "     'kilometers': '31462068.631778226',\n",
              "     'miles': '19549622.9197264788'},\n",
              "    'orbiting_body': 'Earth'}],\n",
              "  'is_sentry_object': False}]"
            ]
          },
          "metadata": {},
          "execution_count": 93
        }
      ],
      "source": [
        "# Ex. 1 your code here\n",
        "hazards = [item for item in neos if item['is_potentially_hazardous_asteroid'] is True]\n",
        "hazards"
      ],
      "metadata": {
        "pycharm": {
          "name": "#%%\n"
        },
        "ExecuteTime": {
          "end_time": "2024-01-04T04:05:43.069849Z",
          "start_time": "2024-01-04T04:05:43.065922Z"
        },
        "id": "2p8hnQkfQgyr",
        "outputId": "705f31e7-803d-499e-d08e-60469146409d",
        "colab": {
          "base_uri": "https://localhost:8080/"
        }
      }
    },
    {
      "cell_type": "markdown",
      "source": [
        "## Fetch Complete Data for One Asteroid\n",
        "\n",
        "Notice that the record for each `neo` is a dictionary with `id` field that uniquely identifies this record in the database.\n",
        "\n",
        "We can use this `id` to fetch complete orbital and close approach data for the NEO.\n",
        "\n",
        "For example, this query fetches the complete data set for the first hazardous asteroid...\n"
      ],
      "metadata": {
        "collapsed": false,
        "pycharm": {
          "name": "#%% md\n"
        },
        "id": "TDSy3sApQgyr"
      }
    },
    {
      "cell_type": "code",
      "execution_count": null,
      "outputs": [],
      "source": [
        "id = hazards[0]['id']\n",
        "url = f'https://api.nasa.gov/neo/rest/v1/neo/{id}?api_key={API_KEY}'\n",
        "response = requests.request(\"GET\", url, headers={}, data={})\n",
        "data = json.loads(response.text)\n",
        "\n",
        "pprint(data)"
      ],
      "metadata": {
        "pycharm": {
          "name": "#%%\n"
        },
        "ExecuteTime": {
          "end_time": "2024-01-04T04:05:43.787125Z",
          "start_time": "2024-01-04T04:05:43.067936Z"
        },
        "id": "cA6PgyF4Qgyr"
      }
    },
    {
      "cell_type": "markdown",
      "source": [
        "Notice that the `miss_distance` field contains the distance (in various units) by which the NEO missed an \"orbiting body\".\n",
        "\n",
        "## Exercise 2\n",
        "\n",
        "In the code cell below, write a python function that takes a list of \"close approach data\" as a parameter,\n",
        "and returns a 2-tuple with the (date, miss km) of the closest approach to Earth in the list (where \"miss km\" is the miss distance in km).\n",
        "\n",
        "Hints:\n",
        "* notice the input is a list of dictionaries.  Each dictionary has a 'close_approach_date\", \"orbiting_body\", and 'miss_distance' field.\n",
        "* we are only interested in the closest approach to \"Earth\"\n",
        "* use a loop if that is easier to understand - we will look at more compact algorithms to solve this problem in class.\n",
        "\n",
        "Add at least one unit test to check your work - note the test data only needs dictionaries with the fields your function actually uses.\n"
      ],
      "metadata": {
        "id": "DNRs7ynOYwYk"
      }
    },
    {
      "cell_type": "code",
      "source": [
        "# Ex. 2 your code here\n",
        "\n",
        "extract = data['close_approach_data']\n",
        "#pprint(extract[0])\n",
        "\n",
        "date_array = [i['close_approach_date'] for i in extract if i['orbiting_body']=='Earth']\n",
        "miss_array = [i['miss_distance']['kilometers'] for i in extract if i['orbiting_body']=='Earth']\n",
        "\n",
        "# print(len(date_array))\n",
        "# print(len(miss_array)) #this was to double check that the two arrays had the right amount of variables\n",
        "zipped_list = list(zip(date_array, miss_array)) #zip the two arrays together as they should correspond to the correcct date and missed distance\n",
        "zipped_list"
      ],
      "metadata": {
        "id": "tiyXTDfnZAd0",
        "ExecuteTime": {
          "end_time": "2024-01-04T04:05:43.790535Z",
          "start_time": "2024-01-04T04:05:43.787064Z"
        }
      },
      "execution_count": null,
      "outputs": []
    },
    {
      "cell_type": "markdown",
      "source": [
        "## Challenge - Take your skills to the next level...\n",
        "## Exercise 3\n",
        "\n",
        "In the code cell below, write a complete program that:\n",
        " 1. fetches the list of NEO's for this week.\n",
        " 2. for each NEO, fetch it's complete orbital data and determine its closest approach to Earth\n",
        " 3. identify which NEO from this week's data makes the closet approach to earth\n",
        " 4. print a nice message with information about the NEO, which it will approach the Earth, and how close it will come.\n",
        "\n",
        "Hints:\n",
        "* you'll need the start and end date - end date is today, see if you can use a [`timedelta`](https://docs.python.org/3/library/datetime.html#timedelta-objects) object to ge the start date (you can do basic \"date math\" with `timedelta` and `date` objects!)\n",
        "* you may need to modify the function we wrote in Ex. 2 to return a triple with the NEO's id included;\n",
        "* lots of opportunity here for more practice with list comprehensions\n"
      ],
      "metadata": {
        "collapsed": false,
        "id": "kmzuOqifQgyr"
      }
    },
    {
      "cell_type": "code",
      "source": [
        "# Ex. 3 (challenge) your code here"
      ],
      "metadata": {
        "id": "Ds1YevErlzCe",
        "pycharm": {
          "name": "#%%\n"
        },
        "ExecuteTime": {
          "end_time": "2024-01-04T04:05:43.790766Z",
          "start_time": "2024-01-04T04:05:43.789211Z"
        }
      },
      "execution_count": null,
      "outputs": []
    }
  ]
}