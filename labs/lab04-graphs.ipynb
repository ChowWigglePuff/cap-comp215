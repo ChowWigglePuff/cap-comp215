{
  "cells": [
    {
      "cell_type": "markdown",
      "source": [
        "COMP 215 - LAB 4 (Graphs)\n",
        "-------------------------\n",
        "#### Name: Chia-Wei Chang\n",
        "#### Date: Jan. 29, 2024\n",
        "\n",
        "This lab exercise is an introduction to Graphs and Graph Analysis using [NetworkX](https://networkx.org/documentation/stable/).\n",
        "\n",
        "**New Python concepts**:\n",
        "  * **NetworkX** is an open-source package.  It provides a `Graph` object to represent a graph.\n",
        "  * Built-in `random` module provides algorithms for generating pseudo-random sequences\n",
        "  * [Generator expression](https://towardsdatascience.com/understanding-generator-expressions-in-python-fe0c4534619) - similar to a list comprehension, but faster and using much less memory!\n",
        "\n",
        "**Credits**:\n",
        "    Code examples based on [Think Complexity, 2nd edition](https://thinkcomplex.com).\n",
        "    Copyright 2016 Allen Downey, [MIT License](http://opensource.org/licenses/MIT)\n",
        "\n",
        "As usual, the first code cell simply imports all the modules we'll be using..."
      ],
      "metadata": {
        "collapsed": false,
        "pycharm": {
          "name": "#%% md\n"
        },
        "id": "_DBFZS3XWP86"
      }
    },
    {
      "cell_type": "code",
      "execution_count": 44,
      "outputs": [],
      "source": [
        "%matplotlib inline\n",
        "\n",
        "import math\n",
        "import random\n",
        "from timeit import timeit\n",
        "\n",
        "import matplotlib.pyplot as plt\n",
        "import networkx as nx"
      ],
      "metadata": {
        "pycharm": {
          "name": "#%%\n"
        },
        "ExecuteTime": {
          "end_time": "2024-01-02T02:05:15.521510Z",
          "start_time": "2024-01-02T02:05:15.485194Z"
        },
        "id": "SID8X1GsWP87"
      }
    },
    {
      "cell_type": "markdown",
      "source": [
        "## ER Graph algorithms.\n",
        "\n",
        "from the textbook...\n",
        "> One of the more interesting \\[random graphs\\] is the Erdős-Rényi model, studied by Paul Erdős and Alfréd Rényi in the 1960s.\n",
        "\n",
        "> An Erdős-Rényi graph (ER graph) is characterized by two parameters: $n$ is the number of nodes and $p$ is the probability that there is an edge between any two nodes.\n",
        "\n",
        "> Erdős and Rényi studied the properties of these random graphs; one of their surprising results is the existence of abrupt changes in the properties of random graphs as random edges are added.\n",
        "\n",
        "In this lab we will work towards re-producing this famous computational experiment.\n",
        "\n",
        "We can start will all the code we developed in class.\n",
        "Review development of these algorithms in teh `week04-graphs` workbook."
      ],
      "metadata": {
        "collapsed": false,
        "id": "filXD8q-WP88"
      }
    },
    {
      "cell_type": "markdown",
      "source": [
        "We `seed` Python's built-in random number generator so we get the same sequence each time (to facilitate debugging and comprehension!)  Comment this out and re-run the notebook when you are ready to run experiments."
      ],
      "metadata": {
        "collapsed": false,
        "pycharm": {
          "name": "#%% md\n"
        },
        "id": "gDMn2YrDWP88"
      }
    },
    {
      "cell_type": "code",
      "execution_count": 45,
      "outputs": [],
      "source": [
        "random.seed(6) # Comment this out to run randomized experiments"
      ],
      "metadata": {
        "pycharm": {
          "name": "#%%\n"
        },
        "ExecuteTime": {
          "end_time": "2024-01-02T02:05:15.524052Z",
          "start_time": "2024-01-02T02:05:15.516067Z"
        },
        "id": "iBAUOwkkWP88"
      }
    },
    {
      "cell_type": "code",
      "execution_count": 46,
      "outputs": [],
      "source": [
        "def all_pairs(objects):\n",
        "    \"\"\" Return a generator with the complete set of distinct object pairs, as 2-tuples, from the given iterable of objects \"\"\"\n",
        "    return ((a, b) for i in range(1, len(objects)) for a,b in zip(objects, objects[i:]))\n",
        "\n",
        "# unit tests\n",
        "assert set( all_pairs(('w', 'x', 'y', 'z')) ) == {('w', 'x'), ('x', 'y'), ('y', 'z'), ('w', 'y'), ('x', 'z'), ('w', 'z')}"
      ],
      "metadata": {
        "pycharm": {
          "name": "#%%\n"
        },
        "ExecuteTime": {
          "end_time": "2024-01-02T02:05:15.537795Z",
          "start_time": "2024-01-02T02:05:15.527284Z"
        },
        "id": "6Cd2u6uOWP89"
      }
    },
    {
      "cell_type": "code",
      "execution_count": 47,
      "outputs": [],
      "source": [
        "def coin_toss(p=0.5):\n",
        "    \"\"\" Simulate flipping a biased \"coin\", where the probability of 'heads' is p.  Return True iff 'heads', False otherwise \"\"\"\n",
        "    return random.random() < p"
      ],
      "metadata": {
        "pycharm": {
          "name": "#%%\n"
        },
        "ExecuteTime": {
          "end_time": "2024-01-02T02:05:15.538072Z",
          "start_time": "2024-01-02T02:05:15.530410Z"
        },
        "id": "_4DHGVH0WP89"
      }
    },
    {
      "cell_type": "code",
      "execution_count": 48,
      "outputs": [
        {
          "output_type": "execute_result",
          "data": {
            "text/plain": [
              "[('y', 'z'), ('w', 'y'), ('x', 'z')]"
            ]
          },
          "metadata": {},
          "execution_count": 48
        }
      ],
      "source": [
        "def random_pairs(objects, p=0.5):\n",
        "    \"\"\" Return a generator of random subset of distinct object pairs (2-tuples), each with a probability of `p` \"\"\"\n",
        "    return (pair for pair in all_pairs(objects) if coin_toss(p))  # \"flip a coin\" to determine whether a given pair is included.\n",
        "\n",
        "# Notice: no way to automate tests for random functions because they produce \"side-effects\" !!!\n",
        "list( random_pairs(('w', 'x', 'y', 'z'), p=0.5) )"
      ],
      "metadata": {
        "pycharm": {
          "name": "#%%\n"
        },
        "ExecuteTime": {
          "end_time": "2024-01-02T02:05:15.546417Z",
          "start_time": "2024-01-02T02:05:15.534324Z"
        },
        "id": "6eTWiM7PWP89",
        "outputId": "b83612f7-1e0d-4479-f6c0-a4546e57400f",
        "colab": {
          "base_uri": "https://localhost:8080/"
        }
      }
    },
    {
      "cell_type": "code",
      "execution_count": 49,
      "outputs": [],
      "source": [
        "def make_random_graph(n, p):\n",
        "    \"\"\" Return an ER Graph with n nodes, where the probability of an edge between a pair of nodes in p \"\"\"\n",
        "    graph = nx.Graph()\n",
        "    labels = range(n)\n",
        "    graph.add_nodes_from(labels)\n",
        "    graph.add_edges_from(random_pairs(labels, p))\n",
        "    return graph"
      ],
      "metadata": {
        "pycharm": {
          "name": "#%%\n"
        },
        "ExecuteTime": {
          "end_time": "2024-01-02T02:05:15.548485Z",
          "start_time": "2024-01-02T02:05:15.539742Z"
        },
        "id": "yc3cKfqdWP89"
      }
    },
    {
      "cell_type": "code",
      "execution_count": 65,
      "outputs": [
        {
          "output_type": "display_data",
          "data": {
            "text/plain": [
              "<Figure size 640x480 with 1 Axes>"
            ],
            "image/png": "[encoded data removed]"
          },
          "metadata": {}
        }
      ],
      "source": [
        "N = 10\n",
        "p = 0.2\n",
        "\n",
        "random_graph = make_random_graph(N, p)\n",
        "\n",
        "nx.draw_circular(random_graph,\n",
        "                 node_color='#ff99dd',\n",
        "                 node_size=1000,\n",
        "                 with_labels=True)\n",
        "plt.gca().set(\n",
        "    title=f'Random Graph has {random_graph.number_of_nodes()} nodes and {random_graph.number_of_edges()} edges'\n",
        ")\n",
        "plt.show()"
      ],
      "metadata": {
        "pycharm": {
          "name": "#%%\n"
        },
        "ExecuteTime": {
          "end_time": "2024-01-02T02:05:15.637670Z",
          "start_time": "2024-01-02T02:05:15.553915Z"
        },
        "id": "dp32FhA_WP8-",
        "outputId": "893b68fc-90d3-463a-f6a6-ef0502ba90db",
        "colab": {
          "base_uri": "https://localhost:8080/",
          "height": 539
        }
      }
    },
    {
      "cell_type": "code",
      "execution_count": 66,
      "outputs": [],
      "source": [
        "def reachable_nodes(graph, start):\n",
        "    \"\"\" return the set of nodes that are reachable from the given start node\"\"\"\n",
        "    seen = set()\n",
        "    stack = [start]\n",
        "    while stack:\n",
        "        node = stack.pop()\n",
        "        if node not in seen:\n",
        "            seen.add(node)\n",
        "            stack.extend(graph.neighbors(node))\n",
        "    return seen"
      ],
      "metadata": {
        "pycharm": {
          "name": "#%%\n"
        },
        "ExecuteTime": {
          "end_time": "2024-01-02T02:05:15.649083Z",
          "start_time": "2024-01-02T02:05:15.640811Z"
        },
        "id": "oyAe2_PWWP8-"
      }
    },
    {
      "cell_type": "code",
      "execution_count": 52,
      "outputs": [],
      "source": [
        "def is_connected(graph):\n",
        "    \"\"\" Return True if the graph is connected, false otherwise. \"\"\"\n",
        "    start = next(iter(graph))   # grab the first node in the graph.  This statement will need some further explanation.\n",
        "    reachable = reachable_nodes(graph, start)\n",
        "    return len(reachable) == len(graph)"
      ],
      "metadata": {
        "pycharm": {
          "name": "#%%\n"
        },
        "ExecuteTime": {
          "end_time": "2024-01-02T02:05:15.649430Z",
          "start_time": "2024-01-02T02:05:15.646354Z"
        },
        "id": "4JKS_ejmWP8-"
      }
    },
    {
      "cell_type": "code",
      "execution_count": 62,
      "outputs": [
        {
          "output_type": "execute_result",
          "data": {
            "text/plain": [
              "False"
            ]
          },
          "metadata": {},
          "execution_count": 62
        }
      ],
      "source": [
        "is_connected(random_graph)"
      ],
      "metadata": {
        "pycharm": {
          "name": "#%%\n"
        },
        "ExecuteTime": {
          "end_time": "2024-01-02T02:05:15.777158Z",
          "start_time": "2024-01-02T02:05:15.650682Z"
        },
        "id": "5YVccY-1WP8-",
        "outputId": "049502ea-ad36-46de-cbad-b5b2acffb90e",
        "colab": {
          "base_uri": "https://localhost:8080/"
        }
      }
    },
    {
      "cell_type": "markdown",
      "source": [
        "## Lab Exercises\n",
        "\n",
        "### Exercise 1\n",
        "Use `timeit` to run an experiment that times the `reachable_nodes` algorithm.\n",
        "Once you understand how `timeit` works, design a small experiment to time the `reachable_nodes` algorithm for a range of graph sizes (`n`)\n",
        "Plot the results of your experiment, where x = graph size (`n`) and y = avg. execution time in seconds"
      ],
      "metadata": {
        "collapsed": false,
        "pycharm": {
          "name": "#%% md\n"
        },
        "id": "ZljUxPt9WP8-"
      }
    },
    {
      "cell_type": "code",
      "execution_count": 54,
      "outputs": [
        {
          "output_type": "execute_result",
          "data": {
            "text/plain": [
              "'Avg. time to execute: 0.004808220999962032 seconds'"
            ],
            "application/vnd.google.colaboratory.intrinsic+json": {
              "type": "string"
            }
          },
          "metadata": {},
          "execution_count": 54
        }
      ],
      "source": [
        "# here's an example of how to use timeit:\n",
        "N = 100\n",
        "p = 1\n",
        "g = make_random_graph(N, p)  # when p=1, this is a complete graph!\n",
        "seconds = timeit(lambda: reachable_nodes( g,  0),  number=3)\n",
        "f'Avg. time to execute: {seconds} seconds'"
      ],
      "metadata": {
        "pycharm": {
          "name": "#%%\n"
        },
        "ExecuteTime": {
          "end_time": "2024-01-02T02:05:15.778576Z",
          "start_time": "2024-01-02T02:05:15.743374Z"
        },
        "id": "96bLIKdDWP8-",
        "outputId": "c0582a2b-1edc-4148-d6a0-201f61b2fd56",
        "colab": {
          "base_uri": "https://localhost:8080/",
          "height": 35
        }
      }
    },
    {
      "cell_type": "code",
      "execution_count": 98,
      "outputs": [
        {
          "output_type": "display_data",
          "data": {
            "text/plain": [
              "<Figure size 640x480 with 1 Axes>"
            ],
            "image/png": "[encoded data removed]"
          },
          "metadata": {}
        }
      ],
      "source": [
        "# Ex. 1 your code here...\n",
        "p = 1\n",
        "to_graph_x = []\n",
        "to_graph_y = []\n",
        "for n in range(1000, 2000, 100):\n",
        "  g = make_random_graph(n, p)\n",
        "  seconds = timeit(lambda: reachable_nodes(g, 0), number=3)/3\n",
        "  # print(f'(the graph {n} has an avg. time to execute: {seconds} seconds)')\n",
        "  to_graph_x.append(n)\n",
        "  to_graph_y.append(seconds)\n",
        "# print(to_graph_x)\n",
        "# print(to_graph_y)\n",
        "plt.plot(to_graph_x, to_graph_y)\n",
        "plt.xlabel('Graph Size')\n",
        "plt.ylabel('Time it takes to execute in Seconds')\n",
        "plt.title('Graph Size vs Execute Time')\n",
        "plt.show()"
      ],
      "metadata": {
        "ExecuteTime": {
          "end_time": "2024-01-02T02:05:15.778899Z",
          "start_time": "2024-01-02T02:05:15.743572Z"
        },
        "id": "W8AIYbLQWP8-",
        "outputId": "dbb8c591-d604-46c8-b949-f139b5670acf",
        "colab": {
          "base_uri": "https://localhost:8080/",
          "height": 472
        }
      }
    },
    {
      "cell_type": "markdown",
      "source": [
        "### Exercise 2:\n",
        "What is the **Big-O time complexity** of the `reachable_nodes` algorithm?"
      ],
      "metadata": {
        "collapsed": false,
        "id": "bzTRyO3oWP8_"
      }
    },
    {
      "cell_type": "markdown",
      "source": [
        "#### Ex. 2 Your Answer:\n"
      ],
      "metadata": {
        "collapsed": false,
        "id": "EP4AadVpWP8_"
      }
    },
    {
      "cell_type": "markdown",
      "source": [
        "## Likelihood of connectivity\n",
        "\n",
        "We are ready to replicate Erdős and Rényi's computational experiment.\n",
        "In this experiment, we estimate the likelihood that a randomly-generated ER graph is connected.\n",
        "\n",
        "Like most computational experiments, we simple \"brute force\" the solution - create a big pile of ER graphs, and simply count up how many of them are connected.\n",
        "\n",
        "### Exercise 3:\n",
        "Write a function that runs one ER experiment for a given value of $n$ and $p$.\n",
        "\n",
        "The function generates `n_trials` (number of trials) graphs and returns the proportion of them that are connected."
      ],
      "metadata": {
        "collapsed": false,
        "pycharm": {
          "name": "#%% md\n"
        },
        "id": "vseVAihqWP8_"
      }
    },
    {
      "cell_type": "code",
      "execution_count": 132,
      "outputs": [
        {
          "output_type": "execute_result",
          "data": {
            "text/plain": [
              "'Likelihood that an ER graph (n=30, p=0.1) is connected: 21.0%'"
            ],
            "application/vnd.google.colaboratory.intrinsic+json": {
              "type": "string"
            }
          },
          "metadata": {},
          "execution_count": 132
        }
      ],
      "source": [
        "def proportion_connected(n, p, n_trials=100):\n",
        "    \"\"\" Return the proportion of random ER Graphs (n, p) that are connected out of n trials. \"\"\"\n",
        "    # Ex. 3 your code here here...\n",
        "    # Step 1: make n_trials random graphs\n",
        "    connected = 0\n",
        "    total = 0\n",
        "    for i in range(n_trials):\n",
        "      g = make_random_graph(n, p)\n",
        "      if is_connected(g) == True:\n",
        "        connected += 1\n",
        "      total +=1\n",
        "    # Step 2: compute the proportion of those graphs that are connected\n",
        "    return connected/total\n",
        "\n",
        "\n",
        "n = 30\n",
        "p = 0.1\n",
        "p_connected = proportion_connected(n, p)*100\n",
        "f'Likelihood that an ER graph (n={n}, p={p}) is connected: {p_connected:.1f}%'"
      ],
      "metadata": {
        "pycharm": {
          "name": "#%%\n"
        },
        "ExecuteTime": {
          "end_time": "2024-01-02T02:05:15.779256Z",
          "start_time": "2024-01-02T02:05:15.743633Z"
        },
        "id": "kd3iGwVgWP8_",
        "outputId": "7a66c2be-fe13-44c4-92cf-c8c952e8c475",
        "colab": {
          "base_uri": "https://localhost:8080/",
          "height": 35
        }
      }
    },
    {
      "cell_type": "markdown",
      "source": [
        "### Exercise 4:\n",
        "Use `timeit` to determine how much time each experimental run is consuming.  \n",
        "Plot the results of your experiment, where x = number of trials (`n_trials`) and y = avg. execution time in seconds"
      ],
      "metadata": {
        "collapsed": false,
        "id": "GObLY9npWP8_"
      }
    },
    {
      "cell_type": "code",
      "execution_count": null,
      "outputs": [],
      "source": [
        "# Solution for Ex. 4 here..."
      ],
      "metadata": {
        "ExecuteTime": {
          "end_time": "2024-01-02T02:05:15.779544Z",
          "start_time": "2024-01-02T02:05:15.743701Z"
        },
        "id": "05ka3JorWP8_"
      }
    },
    {
      "cell_type": "markdown",
      "source": [
        "### Exercise 5:\n",
        "Our experimental results are more accurate (i.e., show less variation between runs) when we use large values for `n` and `n_trials`.  But we've seen that large values for these 2 inputs can cause serious performance issues.\n",
        "\n",
        "What are reasonable value for `n` and `n_trials` to use in the experimental setup below?"
      ],
      "metadata": {
        "collapsed": false,
        "id": "UJhQ6E_oWP8_"
      }
    },
    {
      "cell_type": "markdown",
      "source": [
        "#### Your Answer:\n"
      ],
      "metadata": {
        "collapsed": false,
        "id": "MCrwkUg-WP8_"
      }
    },
    {
      "cell_type": "markdown",
      "source": [
        "## Critical Value of $p$\n",
        "\n",
        "Near a \"critical value\" of $p$, the likelihood of a random graph being connected rapidly changes from near 0 to near 1.\n",
        "Erdős and Rényi predict the critical value should be:  $ln(n) / n$\n",
        "For example..."
      ],
      "metadata": {
        "collapsed": false,
        "pycharm": {
          "name": "#%% md\n"
        },
        "id": "Vo79HGTjWP8_"
      }
    },
    {
      "cell_type": "code",
      "execution_count": null,
      "outputs": [],
      "source": [
        "n = 30\n",
        "f'Erdős and Rényi predict the critical value of p for graphs of size {n} = {math.log(n) / n:0.3f}'"
      ],
      "metadata": {
        "pycharm": {
          "name": "#%%\n"
        },
        "ExecuteTime": {
          "end_time": "2024-01-02T02:05:15.779891Z",
          "start_time": "2024-01-02T02:05:15.743750Z"
        },
        "id": "XSPZFbBAWP8_"
      }
    },
    {
      "cell_type": "markdown",
      "source": [
        "### Exercise 6:\n",
        "Develop an experiment using `proportion_connected` that runs trials over a range of values for $p$.\n",
        "The goal of this experiment is to identify the \"critical value\" of $p$ for graphs of size $n$.\n",
        "\n",
        "You can conduct this experiment by hand by manually running the code above with different input values and record your results in Ex. 7, ... or\n",
        "\n",
        "#### Challenge - Take your skills to the next level...\n",
        "Develop the experimental setup in code to run all trials over a range of values for $p$ and then plot the results of your experiment, where x = value of `p` and y = proportion connection in the experimental run"
      ],
      "metadata": {
        "collapsed": false,
        "pycharm": {
          "name": "#%% md\n"
        },
        "id": "uLddqSx8WP8_"
      }
    },
    {
      "cell_type": "code",
      "execution_count": null,
      "outputs": [],
      "source": [
        "# Ex. 6 (challenge) your code here...\n"
      ],
      "metadata": {
        "pycharm": {
          "name": "#%%\n"
        },
        "ExecuteTime": {
          "end_time": "2024-01-02T02:06:39.600304Z",
          "start_time": "2024-01-02T02:06:39.587196Z"
        },
        "id": "NaFlGBo_WP9A"
      }
    },
    {
      "cell_type": "markdown",
      "source": [
        "### Exercise 7:\n",
        "Does your experiment confirm or refute Erdős and Rényi's results?\n",
        "\n",
        "What real-world applications / implications might this understanding of graph connectivity have?"
      ],
      "metadata": {
        "collapsed": false,
        "id": "tetaui3qWP9A"
      }
    },
    {
      "cell_type": "markdown",
      "source": [
        "#### Ex. 7 Your Answer:\n"
      ],
      "metadata": {
        "collapsed": false,
        "id": "vUb_73NsWP9A"
      }
    }
  ],
  "metadata": {
    "kernelspec": {
      "display_name": "Python 3",
      "language": "python",
      "name": "python3"
    },
    "language_info": {
      "codemirror_mode": {
        "name": "ipython",
        "version": 2
      },
      "file_extension": ".py",
      "mimetype": "text/x-python",
      "name": "python",
      "nbconvert_exporter": "python",
      "pygments_lexer": "ipython2",
      "version": "2.7.6"
    },
    "colab": {
      "provenance": [],
      "toc_visible": true
    }
  },
  "nbformat": 4,
  "nbformat_minor": 0
}